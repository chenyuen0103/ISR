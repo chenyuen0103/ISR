{
 "cells": [
  {
   "cell_type": "code",
   "execution_count": 3,
   "id": "initial_id",
   "metadata": {
    "collapsed": true,
    "ExecuteTime": {
     "end_time": "2024-04-26T00:16:14.751774Z",
     "start_time": "2024-04-26T00:16:14.748450Z"
    }
   },
   "outputs": [],
   "source": [
    "import pandas as pd\n",
    "import os\n",
    "import glob"
   ]
  },
  {
   "cell_type": "code",
   "outputs": [],
   "source": [
    "path = './logs/ISR_Hessian_results_ViT-B_scaled'\n",
    "pattern = 'CelebA_results_s*_hessian_exact.csv'\n",
    "\n",
    "file_list = glob.glob(os.path.join(path, pattern))"
   ],
   "metadata": {
    "collapsed": false,
    "ExecuteTime": {
     "end_time": "2024-04-26T00:54:15.144234Z",
     "start_time": "2024-04-26T00:54:15.142074Z"
    }
   },
   "id": "e7a3e91f25a867a7",
   "execution_count": 18
  },
  {
   "cell_type": "code",
   "outputs": [
    {
     "data": {
      "text/plain": "['./logs/ISR_Hessian_results_ViT-B_scaled/CelebA_results_s0_hessian_exact.csv',\n './logs/ISR_Hessian_results_ViT-B_scaled/CelebA_results_s1_hessian_exact.csv',\n './logs/ISR_Hessian_results_ViT-B_scaled/CelebA_results_s4_hessian_exact.csv',\n './logs/ISR_Hessian_results_ViT-B_scaled/CelebA_results_s2_hessian_exact.csv',\n './logs/ISR_Hessian_results_ViT-B_scaled/CelebA_results_s3_hessian_exact.csv']"
     },
     "execution_count": 19,
     "metadata": {},
     "output_type": "execute_result"
    }
   ],
   "source": [
    "file_list"
   ],
   "metadata": {
    "collapsed": false,
    "ExecuteTime": {
     "end_time": "2024-04-26T00:54:16.164784Z",
     "start_time": "2024-04-26T00:54:16.160299Z"
    }
   },
   "id": "b65ea2dce9584cce",
   "execution_count": 19
  },
  {
   "cell_type": "code",
   "outputs": [
    {
     "name": "stdout",
     "output_type": "stream",
     "text": [
      "Empty DataFrame\n",
      "Columns: [acc-0, acc-1, acc-2, acc-3, worst_group, avg_acc, worst_acc, dataset, algo, seed, ckpt, num_iter, gradient_alpha, hessian_beta, ema, lambda, penalty_anneal_iters, split, method, clf_type, ISR_class, ISR_scale, d_spu, env_label_ratio, C, pca_dim]\n",
      "Index: []\n",
      "\n",
      "[0 rows x 26 columns]\n",
      "Empty DataFrame\n",
      "Columns: [acc-0, acc-1, acc-2, acc-3, worst_group, avg_acc, worst_acc, dataset, algo, seed, ckpt, num_iter, gradient_alpha, hessian_beta, ema, lambda, penalty_anneal_iters, split, method, clf_type, ISR_class, ISR_scale, d_spu, env_label_ratio, C, pca_dim]\n",
      "Index: []\n",
      "\n",
      "[0 rows x 26 columns]\n",
      "Empty DataFrame\n",
      "Columns: [acc-0, acc-1, acc-2, acc-3, worst_group, avg_acc, worst_acc, dataset, algo, seed, ckpt, num_iter, gradient_alpha, hessian_beta, ema, lambda, penalty_anneal_iters, split, method, clf_type, ISR_class, ISR_scale, d_spu, env_label_ratio, C, pca_dim]\n",
      "Index: []\n",
      "\n",
      "[0 rows x 26 columns]\n",
      "Empty DataFrame\n",
      "Columns: [acc-0, acc-1, acc-2, acc-3, worst_group, avg_acc, worst_acc, dataset, algo, seed, ckpt, num_iter, gradient_alpha, hessian_beta, ema, lambda, penalty_anneal_iters, split, method, clf_type, ISR_class, ISR_scale, d_spu, env_label_ratio, C, pca_dim]\n",
      "Index: []\n",
      "\n",
      "[0 rows x 26 columns]\n",
      "Empty DataFrame\n",
      "Columns: [acc-0, acc-1, acc-2, acc-3, worst_group, avg_acc, worst_acc, dataset, algo, seed, ckpt, num_iter, gradient_alpha, hessian_beta, ema, lambda, penalty_anneal_iters, split, method, clf_type, ISR_class, ISR_scale, d_spu, env_label_ratio, C, pca_dim]\n",
      "Index: []\n",
      "\n",
      "[0 rows x 26 columns]\n"
     ]
    }
   ],
   "source": [
    "for file in file_list:\n",
    "    df = pd.read_csv(file)\n",
    "    # Correct the filtering condition and use single brackets\n",
    "    filtered_df = df[((df['gradient_alpha'] == 0.0) & (df['hessian_beta'] == 0.0) & (df['penalty_anneal_iters'] == 0.0))]\n",
    "    print(filtered_df)\n",
    "    # filtered_df.to_csv(file, index=False)\n"
   ],
   "metadata": {
    "collapsed": false,
    "ExecuteTime": {
     "end_time": "2024-04-26T00:54:42.622840Z",
     "start_time": "2024-04-26T00:54:42.608471Z"
    }
   },
   "id": "790dd2c7b9a6c92d",
   "execution_count": 21
  },
  {
   "cell_type": "code",
   "outputs": [
    {
     "name": "stdout",
     "output_type": "stream",
     "text": [
      "        acc-0     acc-1     acc-2     acc-3  worst_group   avg_acc  worst_acc  \\\n",
      "0    0.936028  0.993838  0.797495  0.197802            3  0.933306   0.197802   \n",
      "1    0.952903  0.996151  0.797177  0.183333            3  0.942942   0.183333   \n",
      "2    0.957586  0.959522  0.668058  0.554945            3  0.912820   0.554945   \n",
      "3    0.965087  0.964300  0.652016  0.572222            3  0.922352   0.572222   \n",
      "4    0.936145  0.994079  0.798191  0.197802            3  0.933558   0.197802   \n",
      "..        ...       ...       ...       ...          ...       ...        ...   \n",
      "403  0.705232  0.635169  0.970161  0.955556            1  0.713957   0.635169   \n",
      "404  0.655536  0.643910  0.973556  0.598901            3  0.696180   0.598901   \n",
      "405  0.701341  0.634107  0.970968  0.633333            3  0.708847   0.633333   \n",
      "406  0.738489  0.532745  0.955115  0.780220            1  0.684502   0.532745   \n",
      "407  0.767585  0.528202  0.954032  0.911111            1  0.701683   0.528202   \n",
      "\n",
      "    dataset algo  seed  ... penalty_anneal_iters  split           method  \\\n",
      "0    CelebA  ERM   3.0  ...                  0.0    val  HISR-exact-Mean   \n",
      "1    CelebA  ERM   3.0  ...                  0.0   test  HISR-exact-Mean   \n",
      "2    CelebA  ERM   3.0  ...                  0.0    val  HISR-exact-Mean   \n",
      "3    CelebA  ERM   3.0  ...                  0.0   test  HISR-exact-Mean   \n",
      "4    CelebA  ERM   3.0  ...                  0.0    val  HISR-exact-Mean   \n",
      "..      ...  ...   ...  ...                  ...    ...              ...   \n",
      "403  CelebA  ERM   3.0  ...               6000.0   test  HISR-exact-Mean   \n",
      "404  CelebA  ERM   3.0  ...               8000.0    val  HISR-exact-Mean   \n",
      "405  CelebA  ERM   3.0  ...               8000.0   test  HISR-exact-Mean   \n",
      "406  CelebA  ERM   3.0  ...               8000.0    val  HISR-exact-Mean   \n",
      "407  CelebA  ERM   3.0  ...               8000.0   test  HISR-exact-Mean   \n",
      "\n",
      "     clf_type  ISR_class  ISR_scale  d_spu env_label_ratio    C pca_dim  \n",
      "0    logistic        0.0        0.0    1.0             1.0  1.0   100.0  \n",
      "1    logistic        0.0        0.0    1.0             1.0  1.0   100.0  \n",
      "2    logistic        1.0        0.0    1.0             1.0  1.0   100.0  \n",
      "3    logistic        1.0        0.0    1.0             1.0  1.0   100.0  \n",
      "4    logistic        0.0        0.0    1.0             1.0  1.0   100.0  \n",
      "..        ...        ...        ...    ...             ...  ...     ...  \n",
      "403  logistic        1.0        0.0    1.0             1.0  1.0   100.0  \n",
      "404  logistic        0.0        0.0    1.0             1.0  1.0   100.0  \n",
      "405  logistic        0.0        0.0    1.0             1.0  1.0   100.0  \n",
      "406  logistic        1.0        0.0    1.0             1.0  1.0   100.0  \n",
      "407  logistic        1.0        0.0    1.0             1.0  1.0   100.0  \n",
      "\n",
      "[408 rows x 26 columns]\n"
     ]
    }
   ],
   "source": [
    "print(df)"
   ],
   "metadata": {
    "collapsed": false,
    "ExecuteTime": {
     "end_time": "2024-04-26T00:24:37.621616Z",
     "start_time": "2024-04-26T00:24:37.618224Z"
    }
   },
   "id": "aaa6c57358244d69",
   "execution_count": 16
  },
  {
   "cell_type": "code",
   "outputs": [],
   "source": [],
   "metadata": {
    "collapsed": false
   },
   "id": "51adb00d13bac1d3"
  }
 ],
 "metadata": {
  "kernelspec": {
   "display_name": "Python 3",
   "language": "python",
   "name": "python3"
  },
  "language_info": {
   "codemirror_mode": {
    "name": "ipython",
    "version": 2
   },
   "file_extension": ".py",
   "mimetype": "text/x-python",
   "name": "python",
   "nbconvert_exporter": "python",
   "pygments_lexer": "ipython2",
   "version": "2.7.6"
  }
 },
 "nbformat": 4,
 "nbformat_minor": 5
}
