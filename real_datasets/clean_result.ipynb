{
 "cells": [
  {
   "cell_type": "code",
   "execution_count": 3,
   "id": "initial_id",
   "metadata": {
    "collapsed": true,
    "ExecuteTime": {
     "end_time": "2024-04-26T00:16:14.751774Z",
     "start_time": "2024-04-26T00:16:14.748450Z"
    }
   },
   "outputs": [],
   "source": [
    "import pandas as pd\n",
    "import os\n",
    "import glob"
   ]
  },
  {
   "cell_type": "code",
   "outputs": [],
   "source": [
    "# path = './logs/ISR_Hessian_results_ViT-B_scaled'\n",
    "# pattern = 'CelebA_results_s*_hessian_exact.csv'\n",
    "\n",
    "path = './logs/ISR_Hessian_results_bert_scaled'\n",
    "pattern = 'MultiNLI_results_s*_hessian_exact.csv'\n",
    "\n",
    "file_list = glob.glob(os.path.join(path, pattern))"
   ],
   "metadata": {
    "collapsed": false,
    "ExecuteTime": {
     "end_time": "2024-04-26T15:40:32.653625Z",
     "start_time": "2024-04-26T15:40:32.648614Z"
    }
   },
   "id": "e7a3e91f25a867a7",
   "execution_count": 31
  },
  {
   "cell_type": "code",
   "outputs": [
    {
     "data": {
      "text/plain": "['./logs/ISR_Hessian_results_bert_scaled/MultiNLI_results_s3_hessian_exact.csv',\n './logs/ISR_Hessian_results_bert_scaled/MultiNLI_results_s2_hessian_exact.csv',\n './logs/ISR_Hessian_results_bert_scaled/MultiNLI_results_s1_hessian_exact.csv',\n './logs/ISR_Hessian_results_bert_scaled/MultiNLI_results_s4_hessian_exact.csv',\n './logs/ISR_Hessian_results_bert_scaled/MultiNLI_results_s0_hessian_exact.csv']"
     },
     "execution_count": 32,
     "metadata": {},
     "output_type": "execute_result"
    }
   ],
   "source": [
    "file_list"
   ],
   "metadata": {
    "collapsed": false,
    "ExecuteTime": {
     "end_time": "2024-04-26T15:40:33.131505Z",
     "start_time": "2024-04-26T15:40:33.129538Z"
    }
   },
   "id": "b65ea2dce9584cce",
   "execution_count": 32
  },
  {
   "cell_type": "code",
   "outputs": [
    {
     "name": "stdout",
     "output_type": "stream",
     "text": [
      "No rows found for ./logs/ISR_Hessian_results_bert_scaled/MultiNLI_results_s3_hessian_exact.csv\n",
      "No rows found for ./logs/ISR_Hessian_results_bert_scaled/MultiNLI_results_s2_hessian_exact.csv\n",
      "No rows found for ./logs/ISR_Hessian_results_bert_scaled/MultiNLI_results_s1_hessian_exact.csv\n",
      "No rows found for ./logs/ISR_Hessian_results_bert_scaled/MultiNLI_results_s4_hessian_exact.csv\n",
      "        acc-0     acc-1     acc-2     acc-3     acc-4     acc-5  worst_group  \\\n",
      "456  0.826116  0.954251  0.852017  0.773246  0.774639  0.652447            5   \n",
      "457  0.829927  0.951165  0.848034  0.792325  0.773654  0.663763            5   \n",
      "458  0.827343  0.964178  0.857843  0.791191  0.779591  0.624843            5   \n",
      "459  0.828280  0.959730  0.853837  0.818284  0.783371  0.614111            5   \n",
      "460  0.814807  0.951877  0.860440  0.769984  0.780266  0.685069            5   \n",
      "461  0.815389  0.948159  0.855492  0.790068  0.778763  0.683798            5   \n",
      "462  0.816385  0.951662  0.862481  0.783034  0.778766  0.663739            5   \n",
      "463  0.818510  0.946807  0.858356  0.788939  0.778863  0.675958            5   \n",
      "464  0.825239  0.959215  0.867045  0.802610  0.770925  0.626098            5   \n",
      "465  0.826864  0.955222  0.863616  0.828442  0.769872  0.627178            5   \n",
      "466  0.809678  0.948856  0.865412  0.773246  0.779178  0.698871            5   \n",
      "467  0.810417  0.942900  0.861616  0.788939  0.778012  0.690767            5   \n",
      "468  0.824362  0.949504  0.854948  0.763458  0.777640  0.676286            5   \n",
      "469  0.827095  0.945304  0.850652  0.787810  0.778212  0.684669            5   \n",
      "470  0.832296  0.963962  0.862741  0.792822  0.768149  0.623588            5   \n",
      "471  0.833598  0.959279  0.858406  0.812641  0.772427  0.608014            5   \n",
      "472  0.809459  0.945404  0.861145  0.769984  0.779441  0.697616            5   \n",
      "473  0.811602  0.940346  0.858085  0.785553  0.778387  0.693380            5   \n",
      "474  0.820768  0.951230  0.863446  0.787928  0.772200  0.658720            5   \n",
      "475  0.822644  0.946807  0.859912  0.801354  0.771300  0.666376            5   \n",
      "476  0.832121  0.964178  0.860626  0.796085  0.770212  0.618570            5   \n",
      "477  0.833887  0.959429  0.855986  0.812641  0.773328  0.627178            5   \n",
      "478  0.815201  0.947562  0.858473  0.763458  0.783155  0.691343            5   \n",
      "479  0.815389  0.941698  0.853269  0.790068  0.780917  0.693380            5   \n",
      "480  0.826028  0.950583  0.855022  0.763458  0.773213  0.666248            5   \n",
      "481  0.829205  0.946957  0.851492  0.786682  0.773804  0.669861            5   \n",
      "482  0.824231  0.962667  0.864188  0.799347  0.775839  0.619824            5   \n",
      "483  0.825939  0.957175  0.858801  0.825056  0.777586  0.621951            5   \n",
      "484  0.812922  0.949072  0.859030  0.769984  0.782930  0.691343            5   \n",
      "485  0.814117  0.942149  0.855887  0.788939  0.780791  0.692509            5   \n",
      "\n",
      "      avg_acc  worst_acc   dataset  ... penalty_anneal_iters  split  \\\n",
      "456  0.823070   0.652447  MultiNLI  ...                  0.0    val   \n",
      "457  0.822402   0.663763  MultiNLI  ...                  0.0   test   \n",
      "458  0.827339   0.624843  MultiNLI  ...                  0.0    val   \n",
      "459  0.827163   0.614111  MultiNLI  ...                  0.0   test   \n",
      "460  0.824671   0.685069  MultiNLI  ...                  0.0    val   \n",
      "461  0.822434   0.683798  MultiNLI  ...                  0.0   test   \n",
      "462  0.825168   0.663739  MultiNLI  ...                150.0    val   \n",
      "463  0.824124   0.675958  MultiNLI  ...                150.0   test   \n",
      "464  0.826781   0.626098  MultiNLI  ...                150.0    val   \n",
      "465  0.825563   0.627178  MultiNLI  ...                150.0   test   \n",
      "466  0.824513   0.698871  MultiNLI  ...                150.0    val   \n",
      "467  0.822580   0.690767  MultiNLI  ...                150.0   test   \n",
      "468  0.824404   0.676286  MultiNLI  ...                300.0    val   \n",
      "469  0.823784   0.684669  MultiNLI  ...                300.0   test   \n",
      "470  0.826599   0.623588  MultiNLI  ...                300.0    val   \n",
      "471  0.826492   0.608014  MultiNLI  ...                300.0   test   \n",
      "472  0.822912   0.697616  MultiNLI  ...                300.0    val   \n",
      "473  0.821739   0.693380  MultiNLI  ...                300.0   test   \n",
      "474  0.824537   0.658720  MultiNLI  ...                450.0    val   \n",
      "475  0.823348   0.666376  MultiNLI  ...                450.0   test   \n",
      "476  0.826514   0.618570  MultiNLI  ...                450.0    val   \n",
      "477  0.826258   0.627178  MultiNLI  ...                450.0   test   \n",
      "478  0.824841   0.691343  MultiNLI  ...                450.0    val   \n",
      "479  0.822143   0.693380  MultiNLI  ...                450.0   test   \n",
      "480  0.823422   0.666248  MultiNLI  ...                600.0    val   \n",
      "481  0.823170   0.669861  MultiNLI  ...                600.0   test   \n",
      "482  0.827266   0.619824  MultiNLI  ...                600.0    val   \n",
      "483  0.826250   0.621951  MultiNLI  ...                600.0   test   \n",
      "484  0.824452   0.691343  MultiNLI  ...                600.0    val   \n",
      "485  0.822612   0.692509  MultiNLI  ...                600.0   test   \n",
      "\n",
      "              method  clf_type  ISR_class  ISR_scale  d_spu  env_label_ratio  \\\n",
      "456  HISR-exact-Mean  logistic        0.0        0.0    1.0              1.0   \n",
      "457  HISR-exact-Mean  logistic        0.0        0.0    1.0              1.0   \n",
      "458  HISR-exact-Mean  logistic        1.0        0.0    1.0              1.0   \n",
      "459  HISR-exact-Mean  logistic        1.0        0.0    1.0              1.0   \n",
      "460  HISR-exact-Mean  logistic        2.0        0.0    1.0              1.0   \n",
      "461  HISR-exact-Mean  logistic        2.0        0.0    1.0              1.0   \n",
      "462  HISR-exact-Mean  logistic        0.0        0.0    1.0              1.0   \n",
      "463  HISR-exact-Mean  logistic        0.0        0.0    1.0              1.0   \n",
      "464  HISR-exact-Mean  logistic        1.0        0.0    1.0              1.0   \n",
      "465  HISR-exact-Mean  logistic        1.0        0.0    1.0              1.0   \n",
      "466  HISR-exact-Mean  logistic        2.0        0.0    1.0              1.0   \n",
      "467  HISR-exact-Mean  logistic        2.0        0.0    1.0              1.0   \n",
      "468  HISR-exact-Mean  logistic        0.0        0.0    1.0              1.0   \n",
      "469  HISR-exact-Mean  logistic        0.0        0.0    1.0              1.0   \n",
      "470  HISR-exact-Mean  logistic        1.0        0.0    1.0              1.0   \n",
      "471  HISR-exact-Mean  logistic        1.0        0.0    1.0              1.0   \n",
      "472  HISR-exact-Mean  logistic        2.0        0.0    1.0              1.0   \n",
      "473  HISR-exact-Mean  logistic        2.0        0.0    1.0              1.0   \n",
      "474  HISR-exact-Mean  logistic        0.0        0.0    1.0              1.0   \n",
      "475  HISR-exact-Mean  logistic        0.0        0.0    1.0              1.0   \n",
      "476  HISR-exact-Mean  logistic        1.0        0.0    1.0              1.0   \n",
      "477  HISR-exact-Mean  logistic        1.0        0.0    1.0              1.0   \n",
      "478  HISR-exact-Mean  logistic        2.0        0.0    1.0              1.0   \n",
      "479  HISR-exact-Mean  logistic        2.0        0.0    1.0              1.0   \n",
      "480  HISR-exact-Mean  logistic        0.0        0.0    1.0              1.0   \n",
      "481  HISR-exact-Mean  logistic        0.0        0.0    1.0              1.0   \n",
      "482  HISR-exact-Mean  logistic        1.0        0.0    1.0              1.0   \n",
      "483  HISR-exact-Mean  logistic        1.0        0.0    1.0              1.0   \n",
      "484  HISR-exact-Mean  logistic        2.0        0.0    1.0              1.0   \n",
      "485  HISR-exact-Mean  logistic        2.0        0.0    1.0              1.0   \n",
      "\n",
      "       C pca_dim  \n",
      "456  1.0   100.0  \n",
      "457  1.0   100.0  \n",
      "458  1.0   100.0  \n",
      "459  1.0   100.0  \n",
      "460  1.0   100.0  \n",
      "461  1.0   100.0  \n",
      "462  1.0   100.0  \n",
      "463  1.0   100.0  \n",
      "464  1.0   100.0  \n",
      "465  1.0   100.0  \n",
      "466  1.0   100.0  \n",
      "467  1.0   100.0  \n",
      "468  1.0   100.0  \n",
      "469  1.0   100.0  \n",
      "470  1.0   100.0  \n",
      "471  1.0   100.0  \n",
      "472  1.0   100.0  \n",
      "473  1.0   100.0  \n",
      "474  1.0   100.0  \n",
      "475  1.0   100.0  \n",
      "476  1.0   100.0  \n",
      "477  1.0   100.0  \n",
      "478  1.0   100.0  \n",
      "479  1.0   100.0  \n",
      "480  1.0   100.0  \n",
      "481  1.0   100.0  \n",
      "482  1.0   100.0  \n",
      "483  1.0   100.0  \n",
      "484  1.0   100.0  \n",
      "485  1.0   100.0  \n",
      "\n",
      "[30 rows x 28 columns]\n"
     ]
    }
   ],
   "source": [
    "for file in file_list:\n",
    "    df = pd.read_csv(file)\n",
    "    # Correct the filtering condition and use single brackets\n",
    "    filtered_df = df[((df['gradient_alpha'] == 1) & (df['hessian_beta'] == 0.01))\n",
    "    ]\n",
    "    if filtered_df.empty:\n",
    "        print(f'No rows found for {file}')\n",
    "    else:\n",
    "        print(filtered_df)\n",
    "    # filtered_df.to_csv(file, index=False)\n"
   ],
   "metadata": {
    "collapsed": false,
    "ExecuteTime": {
     "end_time": "2024-04-26T15:41:05.867603Z",
     "start_time": "2024-04-26T15:41:05.838395Z"
    }
   },
   "id": "790dd2c7b9a6c92d",
   "execution_count": 33
  },
  {
   "cell_type": "code",
   "outputs": [
    {
     "name": "stdout",
     "output_type": "stream",
     "text": [
      "        acc-0     acc-1     acc-2     acc-3  worst_group   avg_acc  worst_acc  \\\n",
      "0    0.936028  0.993838  0.797495  0.197802            3  0.933306   0.197802   \n",
      "1    0.952903  0.996151  0.797177  0.183333            3  0.942942   0.183333   \n",
      "2    0.957586  0.959522  0.668058  0.554945            3  0.912820   0.554945   \n",
      "3    0.965087  0.964300  0.652016  0.572222            3  0.922352   0.572222   \n",
      "4    0.936145  0.994079  0.798191  0.197802            3  0.933558   0.197802   \n",
      "..        ...       ...       ...       ...          ...       ...        ...   \n",
      "415  0.675642  0.676311  0.978226  0.911111            0  0.715610   0.675642   \n",
      "416  0.681312  0.652006  0.969033  0.543956            3  0.709468   0.543956   \n",
      "417  0.715470  0.663703  0.970565  0.727778            1  0.727733   0.663703   \n",
      "418  0.629877  0.675689  0.975644  0.829670            0  0.700810   0.629877   \n",
      "419  0.674107  0.677107  0.979435  0.927778            0  0.715459   0.674107   \n",
      "\n",
      "    dataset algo  seed  ... penalty_anneal_iters  split           method  \\\n",
      "0    CelebA  ERM   3.0  ...                  0.0    val  HISR-exact-Mean   \n",
      "1    CelebA  ERM   3.0  ...                  0.0   test  HISR-exact-Mean   \n",
      "2    CelebA  ERM   3.0  ...                  0.0    val  HISR-exact-Mean   \n",
      "3    CelebA  ERM   3.0  ...                  0.0   test  HISR-exact-Mean   \n",
      "4    CelebA  ERM   3.0  ...                  0.0    val  HISR-exact-Mean   \n",
      "..      ...  ...   ...  ...                  ...    ...              ...   \n",
      "415  CelebA  ERM   3.0  ...               6000.0   test  HISR-exact-Mean   \n",
      "416  CelebA  ERM   3.0  ...               8000.0    val  HISR-exact-Mean   \n",
      "417  CelebA  ERM   3.0  ...               8000.0   test  HISR-exact-Mean   \n",
      "418  CelebA  ERM   3.0  ...               8000.0    val  HISR-exact-Mean   \n",
      "419  CelebA  ERM   3.0  ...               8000.0   test  HISR-exact-Mean   \n",
      "\n",
      "     clf_type  ISR_class  ISR_scale  d_spu env_label_ratio    C pca_dim  \n",
      "0    logistic        0.0        0.0    1.0             1.0  1.0   100.0  \n",
      "1    logistic        0.0        0.0    1.0             1.0  1.0   100.0  \n",
      "2    logistic        1.0        0.0    1.0             1.0  1.0   100.0  \n",
      "3    logistic        1.0        0.0    1.0             1.0  1.0   100.0  \n",
      "4    logistic        0.0        0.0    1.0             1.0  1.0   100.0  \n",
      "..        ...        ...        ...    ...             ...  ...     ...  \n",
      "415  logistic        1.0        0.0    1.0             1.0  1.0   100.0  \n",
      "416  logistic        0.0        0.0    1.0             1.0  1.0   100.0  \n",
      "417  logistic        0.0        0.0    1.0             1.0  1.0   100.0  \n",
      "418  logistic        1.0        0.0    1.0             1.0  1.0   100.0  \n",
      "419  logistic        1.0        0.0    1.0             1.0  1.0   100.0  \n",
      "\n",
      "[420 rows x 26 columns]\n"
     ]
    }
   ],
   "source": [],
   "metadata": {
    "collapsed": false,
    "ExecuteTime": {
     "end_time": "2024-04-26T03:14:31.073074Z",
     "start_time": "2024-04-26T03:14:31.070866Z"
    }
   },
   "id": "aaa6c57358244d69",
   "execution_count": 30
  },
  {
   "cell_type": "code",
   "outputs": [],
   "source": [],
   "metadata": {
    "collapsed": false
   },
   "id": "51adb00d13bac1d3"
  }
 ],
 "metadata": {
  "kernelspec": {
   "display_name": "Python 3",
   "language": "python",
   "name": "python3"
  },
  "language_info": {
   "codemirror_mode": {
    "name": "ipython",
    "version": 2
   },
   "file_extension": ".py",
   "mimetype": "text/x-python",
   "name": "python",
   "nbconvert_exporter": "python",
   "pygments_lexer": "ipython2",
   "version": "2.7.6"
  }
 },
 "nbformat": 4,
 "nbformat_minor": 5
}
