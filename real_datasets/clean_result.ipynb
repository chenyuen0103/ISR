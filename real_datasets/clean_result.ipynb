{
 "cells": [
  {
   "cell_type": "code",
   "execution_count": 3,
   "id": "initial_id",
   "metadata": {
    "collapsed": true,
    "ExecuteTime": {
     "end_time": "2024-04-26T00:16:14.751774Z",
     "start_time": "2024-04-26T00:16:14.748450Z"
    }
   },
   "outputs": [],
   "source": [
    "import pandas as pd\n",
    "import os\n",
    "import glob"
   ]
  },
  {
   "cell_type": "code",
   "outputs": [],
   "source": [
    "path = './logs/ISR_Hessian_results_ViT-B_scaled'\n",
    "pattern = 'CelebA_results_s*_hessian_exact.csv'\n",
    "\n",
    "file_list = glob.glob(os.path.join(path, pattern))"
   ],
   "metadata": {
    "collapsed": false,
    "ExecuteTime": {
     "end_time": "2024-04-26T00:54:15.144234Z",
     "start_time": "2024-04-26T00:54:15.142074Z"
    }
   },
   "id": "e7a3e91f25a867a7",
   "execution_count": 18
  },
  {
   "cell_type": "code",
   "outputs": [
    {
     "data": {
      "text/plain": "['./logs/ISR_Hessian_results_ViT-B_scaled/CelebA_results_s0_hessian_exact.csv',\n './logs/ISR_Hessian_results_ViT-B_scaled/CelebA_results_s1_hessian_exact.csv',\n './logs/ISR_Hessian_results_ViT-B_scaled/CelebA_results_s4_hessian_exact.csv',\n './logs/ISR_Hessian_results_ViT-B_scaled/CelebA_results_s2_hessian_exact.csv',\n './logs/ISR_Hessian_results_ViT-B_scaled/CelebA_results_s3_hessian_exact.csv']"
     },
     "execution_count": 19,
     "metadata": {},
     "output_type": "execute_result"
    }
   ],
   "source": [
    "file_list"
   ],
   "metadata": {
    "collapsed": false,
    "ExecuteTime": {
     "end_time": "2024-04-26T00:54:16.164784Z",
     "start_time": "2024-04-26T00:54:16.160299Z"
    }
   },
   "id": "b65ea2dce9584cce",
   "execution_count": 19
  },
  {
   "cell_type": "code",
   "outputs": [
    {
     "name": "stdout",
     "output_type": "stream",
     "text": [
      "        acc-0     acc-1     acc-2     acc-3  worst_group   avg_acc  worst_acc  \\\n",
      "308  0.691974  0.748550  0.960682  0.725275            0  0.754719   0.691974   \n",
      "309  0.722842  0.743066  0.958065  0.761111            0  0.760044   0.722842   \n",
      "310  0.635970  0.688980  0.956855  0.934066            0  0.707203   0.635970   \n",
      "311  0.676769  0.680956  0.950806  0.950000            0  0.714858   0.676769   \n",
      "\n",
      "    dataset algo  seed  ... penalty_anneal_iters  split           method  \\\n",
      "308  CelebA  ERM   0.0  ...               2000.0    val  HISR-exact-Mean   \n",
      "309  CelebA  ERM   0.0  ...               2000.0   test  HISR-exact-Mean   \n",
      "310  CelebA  ERM   0.0  ...               2000.0    val  HISR-exact-Mean   \n",
      "311  CelebA  ERM   0.0  ...               2000.0   test  HISR-exact-Mean   \n",
      "\n",
      "     clf_type  ISR_class  ISR_scale  d_spu env_label_ratio    C pca_dim  \n",
      "308  logistic        0.0        0.0    1.0             1.0  1.0   100.0  \n",
      "309  logistic        0.0        0.0    1.0             1.0  1.0   100.0  \n",
      "310  logistic        1.0        0.0    1.0             1.0  1.0   100.0  \n",
      "311  logistic        1.0        0.0    1.0             1.0  1.0   100.0  \n",
      "\n",
      "[4 rows x 26 columns]\n",
      "        acc-0     acc-1     acc-2     acc-3  worst_group   avg_acc  worst_acc  \\\n",
      "308  0.702753  0.748792  0.959290  0.703297            0  0.759048   0.702753   \n",
      "309  0.732364  0.752090  0.961694  0.750000            0  0.768460   0.732364   \n",
      "310  0.641008  0.696351  0.959638  0.934066            0  0.712840   0.641008   \n",
      "311  0.679533  0.684539  0.952419  0.961111            0  0.717864   0.679533   \n",
      "\n",
      "    dataset algo  seed  ... penalty_anneal_iters  split           method  \\\n",
      "308  CelebA  ERM   1.0  ...               2000.0    val  HISR-exact-Mean   \n",
      "309  CelebA  ERM   1.0  ...               2000.0   test  HISR-exact-Mean   \n",
      "310  CelebA  ERM   1.0  ...               2000.0    val  HISR-exact-Mean   \n",
      "311  CelebA  ERM   1.0  ...               2000.0   test  HISR-exact-Mean   \n",
      "\n",
      "     clf_type  ISR_class  ISR_scale  d_spu env_label_ratio    C pca_dim  \n",
      "308  logistic        0.0        0.0    1.0             1.0  1.0   100.0  \n",
      "309  logistic        0.0        0.0    1.0             1.0  1.0   100.0  \n",
      "310  logistic        1.0        0.0    1.0             1.0  1.0   100.0  \n",
      "311  logistic        1.0        0.0    1.0             1.0  1.0   100.0  \n",
      "\n",
      "[4 rows x 26 columns]\n",
      "No rows found for ./logs/ISR_Hessian_results_ViT-B_scaled/CelebA_results_s4_hessian_exact.csv\n",
      "        acc-0     acc-1     acc-2     acc-3  worst_group   avg_acc  worst_acc  \\\n",
      "308  0.695021  0.744079  0.963118  0.774725            0  0.754971   0.695021   \n",
      "309  0.727962  0.751161  0.966129  0.772222            0  0.766707   0.727962   \n",
      "310  0.635852  0.683784  0.956507  0.934066            0  0.704938   0.635852   \n",
      "311  0.678714  0.672329  0.952419  0.955556            1  0.712804   0.672329   \n",
      "\n",
      "    dataset algo  seed  ... penalty_anneal_iters  split           method  \\\n",
      "308  CelebA  ERM   2.0  ...               2000.0    val  HISR-exact-Mean   \n",
      "309  CelebA  ERM   2.0  ...               2000.0   test  HISR-exact-Mean   \n",
      "310  CelebA  ERM   2.0  ...               2000.0    val  HISR-exact-Mean   \n",
      "311  CelebA  ERM   2.0  ...               2000.0   test  HISR-exact-Mean   \n",
      "\n",
      "     clf_type  ISR_class  ISR_scale  d_spu env_label_ratio    C pca_dim  \n",
      "308  logistic        0.0        0.0    1.0             1.0  1.0   100.0  \n",
      "309  logistic        0.0        0.0    1.0             1.0  1.0   100.0  \n",
      "310  logistic        1.0        0.0    1.0             1.0  1.0   100.0  \n",
      "311  logistic        1.0        0.0    1.0             1.0  1.0   100.0  \n",
      "\n",
      "[4 rows x 26 columns]\n",
      "        acc-0     acc-1     acc-2     acc-3  worst_group   avg_acc  worst_acc  \\\n",
      "308  0.697129  0.744079  0.962422  0.752747            0  0.755575   0.697129   \n",
      "309  0.724788  0.728334  0.960887  0.800000            0  0.756137   0.724788   \n",
      "310  0.637727  0.691397  0.955463  0.928571            0  0.708713   0.637727   \n",
      "311  0.674107  0.683079  0.950403  0.966667            0  0.714457   0.674107   \n",
      "\n",
      "    dataset algo  seed  ... penalty_anneal_iters  split           method  \\\n",
      "308  CelebA  ERM   3.0  ...               2000.0    val  HISR-exact-Mean   \n",
      "309  CelebA  ERM   3.0  ...               2000.0   test  HISR-exact-Mean   \n",
      "310  CelebA  ERM   3.0  ...               2000.0    val  HISR-exact-Mean   \n",
      "311  CelebA  ERM   3.0  ...               2000.0   test  HISR-exact-Mean   \n",
      "\n",
      "     clf_type  ISR_class  ISR_scale  d_spu env_label_ratio    C pca_dim  \n",
      "308  logistic        0.0        0.0    1.0             1.0  1.0   100.0  \n",
      "309  logistic        0.0        0.0    1.0             1.0  1.0   100.0  \n",
      "310  logistic        1.0        0.0    1.0             1.0  1.0   100.0  \n",
      "311  logistic        1.0        0.0    1.0             1.0  1.0   100.0  \n",
      "\n",
      "[4 rows x 26 columns]\n"
     ]
    }
   ],
   "source": [
    "for file in file_list:\n",
    "    df = pd.read_csv(file)\n",
    "    # Correct the filtering condition and use single brackets\n",
    "    filtered_df = df[((df['gradient_alpha'] == 1000) & (df['hessian_beta'] == 0.01) & (df['penalty_anneal_iters'] == 2000))]\n",
    "    if filtered_df.empty:\n",
    "        print(f'No rows found for {file}')\n",
    "    else:\n",
    "        print(filtered_df)\n",
    "    # filtered_df.to_csv(file, index=False)\n"
   ],
   "metadata": {
    "collapsed": false,
    "ExecuteTime": {
     "end_time": "2024-04-26T03:14:30.621456Z",
     "start_time": "2024-04-26T03:14:30.600339Z"
    }
   },
   "id": "790dd2c7b9a6c92d",
   "execution_count": 29
  },
  {
   "cell_type": "code",
   "outputs": [
    {
     "name": "stdout",
     "output_type": "stream",
     "text": [
      "        acc-0     acc-1     acc-2     acc-3  worst_group   avg_acc  worst_acc  \\\n",
      "0    0.936028  0.993838  0.797495  0.197802            3  0.933306   0.197802   \n",
      "1    0.952903  0.996151  0.797177  0.183333            3  0.942942   0.183333   \n",
      "2    0.957586  0.959522  0.668058  0.554945            3  0.912820   0.554945   \n",
      "3    0.965087  0.964300  0.652016  0.572222            3  0.922352   0.572222   \n",
      "4    0.936145  0.994079  0.798191  0.197802            3  0.933558   0.197802   \n",
      "..        ...       ...       ...       ...          ...       ...        ...   \n",
      "415  0.675642  0.676311  0.978226  0.911111            0  0.715610   0.675642   \n",
      "416  0.681312  0.652006  0.969033  0.543956            3  0.709468   0.543956   \n",
      "417  0.715470  0.663703  0.970565  0.727778            1  0.727733   0.663703   \n",
      "418  0.629877  0.675689  0.975644  0.829670            0  0.700810   0.629877   \n",
      "419  0.674107  0.677107  0.979435  0.927778            0  0.715459   0.674107   \n",
      "\n",
      "    dataset algo  seed  ... penalty_anneal_iters  split           method  \\\n",
      "0    CelebA  ERM   3.0  ...                  0.0    val  HISR-exact-Mean   \n",
      "1    CelebA  ERM   3.0  ...                  0.0   test  HISR-exact-Mean   \n",
      "2    CelebA  ERM   3.0  ...                  0.0    val  HISR-exact-Mean   \n",
      "3    CelebA  ERM   3.0  ...                  0.0   test  HISR-exact-Mean   \n",
      "4    CelebA  ERM   3.0  ...                  0.0    val  HISR-exact-Mean   \n",
      "..      ...  ...   ...  ...                  ...    ...              ...   \n",
      "415  CelebA  ERM   3.0  ...               6000.0   test  HISR-exact-Mean   \n",
      "416  CelebA  ERM   3.0  ...               8000.0    val  HISR-exact-Mean   \n",
      "417  CelebA  ERM   3.0  ...               8000.0   test  HISR-exact-Mean   \n",
      "418  CelebA  ERM   3.0  ...               8000.0    val  HISR-exact-Mean   \n",
      "419  CelebA  ERM   3.0  ...               8000.0   test  HISR-exact-Mean   \n",
      "\n",
      "     clf_type  ISR_class  ISR_scale  d_spu env_label_ratio    C pca_dim  \n",
      "0    logistic        0.0        0.0    1.0             1.0  1.0   100.0  \n",
      "1    logistic        0.0        0.0    1.0             1.0  1.0   100.0  \n",
      "2    logistic        1.0        0.0    1.0             1.0  1.0   100.0  \n",
      "3    logistic        1.0        0.0    1.0             1.0  1.0   100.0  \n",
      "4    logistic        0.0        0.0    1.0             1.0  1.0   100.0  \n",
      "..        ...        ...        ...    ...             ...  ...     ...  \n",
      "415  logistic        1.0        0.0    1.0             1.0  1.0   100.0  \n",
      "416  logistic        0.0        0.0    1.0             1.0  1.0   100.0  \n",
      "417  logistic        0.0        0.0    1.0             1.0  1.0   100.0  \n",
      "418  logistic        1.0        0.0    1.0             1.0  1.0   100.0  \n",
      "419  logistic        1.0        0.0    1.0             1.0  1.0   100.0  \n",
      "\n",
      "[420 rows x 26 columns]\n"
     ]
    }
   ],
   "source": [
    "print(df)"
   ],
   "metadata": {
    "collapsed": false,
    "ExecuteTime": {
     "end_time": "2024-04-26T03:14:31.073074Z",
     "start_time": "2024-04-26T03:14:31.070866Z"
    }
   },
   "id": "aaa6c57358244d69",
   "execution_count": 30
  },
  {
   "cell_type": "code",
   "outputs": [],
   "source": [],
   "metadata": {
    "collapsed": false
   },
   "id": "51adb00d13bac1d3"
  }
 ],
 "metadata": {
  "kernelspec": {
   "display_name": "Python 3",
   "language": "python",
   "name": "python3"
  },
  "language_info": {
   "codemirror_mode": {
    "name": "ipython",
    "version": 2
   },
   "file_extension": ".py",
   "mimetype": "text/x-python",
   "name": "python",
   "nbconvert_exporter": "python",
   "pygments_lexer": "ipython2",
   "version": "2.7.6"
  }
 },
 "nbformat": 4,
 "nbformat_minor": 5
}
